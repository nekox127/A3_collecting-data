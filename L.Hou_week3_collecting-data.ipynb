{
 "cells": [
  {
   "cell_type": "markdown",
   "id": "499b0e99",
   "metadata": {},
   "source": [
    "\n"
   ]
  },
  {
   "cell_type": "markdown",
   "id": "f3a18040",
   "metadata": {},
   "source": [
    "#  Instructions\n",
    "\n",
    "This dataset is about usual number of hours worked per week by students (15 to 26 years) in the Netherlands."
   ]
  },
  {
   "cell_type": "code",
   "execution_count": 1,
   "id": "89b15a9b",
   "metadata": {},
   "outputs": [],
   "source": [
    "import pandas as pd"
   ]
  },
  {
   "cell_type": "code",
   "execution_count": 2,
   "id": "a914dd2d",
   "metadata": {},
   "outputs": [],
   "source": [
    "pd.options.display.max_rows = 200"
   ]
  },
  {
   "cell_type": "code",
   "execution_count": 39,
   "id": "678c2f2a",
   "metadata": {},
   "outputs": [],
   "source": [
    "students_work = pd.read_csv('../Documents/collecting_data/Usual number of hours worked per week by students.csv', delimiter=\",\", encoding='utf-8')"
   ]
  },
  {
   "cell_type": "code",
   "execution_count": 40,
   "id": "328dc179",
   "metadata": {},
   "outputs": [
    {
     "data": {
      "text/plain": [
       "Index(['jaar ', 'kwartaal ', 'Secondary education (hours) ',\n",
       "       'Secondary vocational education (hours) ', 'Higher education (hours) '],\n",
       "      dtype='object')"
      ]
     },
     "execution_count": 40,
     "metadata": {},
     "output_type": "execute_result"
    }
   ],
   "source": [
    "#check the columns' name\n",
    "students_work.columns"
   ]
  },
  {
   "cell_type": "code",
   "execution_count": 41,
   "id": "4dc8a448",
   "metadata": {},
   "outputs": [
    {
     "data": {
      "text/html": [
       "<div>\n",
       "<style scoped>\n",
       "    .dataframe tbody tr th:only-of-type {\n",
       "        vertical-align: middle;\n",
       "    }\n",
       "\n",
       "    .dataframe tbody tr th {\n",
       "        vertical-align: top;\n",
       "    }\n",
       "\n",
       "    .dataframe thead th {\n",
       "        text-align: right;\n",
       "    }\n",
       "</style>\n",
       "<table border=\"1\" class=\"dataframe\">\n",
       "  <thead>\n",
       "    <tr style=\"text-align: right;\">\n",
       "      <th></th>\n",
       "      <th>year</th>\n",
       "      <th>quarter</th>\n",
       "      <th>Secondary_education</th>\n",
       "      <th>Secondary_vocational_education</th>\n",
       "      <th>Higher_education</th>\n",
       "    </tr>\n",
       "  </thead>\n",
       "  <tbody>\n",
       "    <tr>\n",
       "      <th>0</th>\n",
       "      <td>2021</td>\n",
       "      <td>Q1</td>\n",
       "      <td>10.6</td>\n",
       "      <td>21.4</td>\n",
       "      <td>17.7</td>\n",
       "    </tr>\n",
       "    <tr>\n",
       "      <th>1</th>\n",
       "      <td>2021</td>\n",
       "      <td>Q2</td>\n",
       "      <td>10.2</td>\n",
       "      <td>21.7</td>\n",
       "      <td>18.2</td>\n",
       "    </tr>\n",
       "    <tr>\n",
       "      <th>2</th>\n",
       "      <td>2021</td>\n",
       "      <td>Q3</td>\n",
       "      <td>11.4</td>\n",
       "      <td>22.2</td>\n",
       "      <td>18.3</td>\n",
       "    </tr>\n",
       "    <tr>\n",
       "      <th>3</th>\n",
       "      <td>2021</td>\n",
       "      <td>Q4</td>\n",
       "      <td>10.0</td>\n",
       "      <td>21.8</td>\n",
       "      <td>16.8</td>\n",
       "    </tr>\n",
       "    <tr>\n",
       "      <th>4</th>\n",
       "      <td>2022</td>\n",
       "      <td>Q1</td>\n",
       "      <td>9.1</td>\n",
       "      <td>21.7</td>\n",
       "      <td>17.2</td>\n",
       "    </tr>\n",
       "  </tbody>\n",
       "</table>\n",
       "</div>"
      ],
      "text/plain": [
       "   year quarter  Secondary_education  Secondary_vocational_education  \\\n",
       "0  2021      Q1                 10.6                            21.4   \n",
       "1  2021      Q2                 10.2                            21.7   \n",
       "2  2021      Q3                 11.4                            22.2   \n",
       "3  2021      Q4                 10.0                            21.8   \n",
       "4  2022      Q1                  9.1                            21.7   \n",
       "\n",
       "   Higher_education  \n",
       "0              17.7  \n",
       "1              18.2  \n",
       "2              18.3  \n",
       "3              16.8  \n",
       "4              17.2  "
      ]
     },
     "execution_count": 41,
     "metadata": {},
     "output_type": "execute_result"
    }
   ],
   "source": [
    "#rename the columns: from Dutch to English & make them clear\n",
    "students_work = students_work.rename(columns={'jaar ': 'year','kwartaal ':'quarter', 'Secondary education (hours) ':'Secondary_education', 'Secondary vocational education (hours) ':'Secondary_vocational_education', 'Higher education (hours) ':'Higher_education'})\n",
    "students_work.head(5)"
   ]
  },
  {
   "cell_type": "markdown",
   "id": "fe358222",
   "metadata": {},
   "source": [
    "# Question 1:\n",
    "\n",
    "**How did working hours fluctuate across quarters?**\n"
   ]
  },
  {
   "cell_type": "code",
   "execution_count": 52,
   "id": "589454cb",
   "metadata": {},
   "outputs": [
    {
     "name": "stdout",
     "output_type": "stream",
     "text": [
      "    year quarter  Secondary_education  Secondary_vocational_education  \\\n",
      "0   2021      Q1                 10.6                            21.4   \n",
      "1   2021      Q2                 10.2                            21.7   \n",
      "2   2021      Q3                 11.4                            22.2   \n",
      "3   2021      Q4                 10.0                            21.8   \n",
      "4   2022      Q1                  9.1                            21.7   \n",
      "5   2022      Q2                 10.0                            21.7   \n",
      "6   2022      Q3                 11.1                            22.3   \n",
      "7   2022      Q4                  9.5                            21.1   \n",
      "8   2023      Q1                  9.3                            22.3   \n",
      "9   2023      Q2                 10.1                            22.6   \n",
      "10  2023      Q3                 10.9                            22.5   \n",
      "\n",
      "    Higher_education  total_hours  \n",
      "0               17.7         49.7  \n",
      "1               18.2         50.1  \n",
      "2               18.3         51.9  \n",
      "3               16.8         48.6  \n",
      "4               17.2         48.0  \n",
      "5               18.0         49.7  \n",
      "6               18.7         52.1  \n",
      "7               17.5         48.1  \n",
      "8               18.0         49.6  \n",
      "9               18.7         51.4  \n",
      "10              18.7         52.1  \n"
     ]
    }
   ],
   "source": [
    "#1.1. Sum the values in 'Secondary education', 'Secondary vocational education', and 'Higher education'\n",
    "students_work['total_hours'] = students_work[['Secondary_education', 'Secondary_vocational_education', 'Higher_education']].sum(axis=1)\n",
    "\n",
    "print(students_work)"
   ]
  },
  {
   "cell_type": "code",
   "execution_count": 57,
   "id": "12bb8f27",
   "metadata": {},
   "outputs": [
    {
     "name": "stdout",
     "output_type": "stream",
     "text": [
      "year  quarter\n",
      "2021  Q1         49.7\n",
      "      Q2         50.1\n",
      "      Q3         51.9\n",
      "      Q4         48.6\n",
      "2022  Q1         48.0\n",
      "      Q2         49.7\n",
      "      Q3         52.1\n",
      "      Q4         48.1\n",
      "2023  Q1         49.6\n",
      "      Q2         51.4\n",
      "      Q3         52.1\n",
      "Name: total_hours, dtype: float64\n"
     ]
    }
   ],
   "source": [
    "#1.2. isolate neccessary data\n",
    "quarterly_sum = students_work.groupby(['year', 'quarter'])['total_hours'].sum()\n",
    "print(quarterly_sum)"
   ]
  },
  {
   "cell_type": "code",
   "execution_count": 56,
   "id": "985e4385",
   "metadata": {},
   "outputs": [
    {
     "data": {
      "text/plain": [
       "<Axes: title={'center': 'Quarterly Sum'}, xlabel='Quarter'>"
      ]
     },
     "execution_count": 56,
     "metadata": {},
     "output_type": "execute_result"
    },
    {
     "data": {
      "image/png": "[encoded data removed]",
      "text/plain": [
       "<Figure size 640x480 with 1 Axes>"
      ]
     },
     "metadata": {},
     "output_type": "display_data"
    }
   ],
   "source": [
    "#1.3. visualization\n",
    "quarterly_sum.plot(kind='bar',title='Quarterly Sum', xlabel='Quarter', color='orange')"
   ]
  },
  {
   "cell_type": "markdown",
   "id": "80529d3c",
   "metadata": {},
   "source": [
    "1.4. **Analysis**\n",
    "\n",
    "(How did working hours fluctuate across quarters?)\n",
    "\n",
    "From the bar plot, in the observed three-year period, working hours exhibit minimal variation between Q1 and Q4. Notably, Q3 (July, August, September) consistently shows higher working hours, while Q1 and Q4 (January, February, March, October, November, December) reflect lower levels.\n",
    "\n",
    "This pattern aligns with the academic calendar in the Netherlands. The extended summer break provides students with increased flexibility, leading to higher employment hours in Q3. Conversely, when schools commence in January and September, a focus on studies contributes to lower working hours in Q1 and Q4."
   ]
  },
  {
   "cell_type": "markdown",
   "id": "dbac8dfd",
   "metadata": {},
   "source": [
    "\n",
    "# Question 2:\n",
    "\n",
    "**How did working hours vary among students across these three categories?**\n"
   ]
  },
  {
   "cell_type": "code",
   "execution_count": 60,
   "id": "e96bc811",
   "metadata": {},
   "outputs": [],
   "source": [
    "#2.1. isolate neccessary data\n",
    "secondary_education = students_work.groupby(['year', 'quarter'])['Secondary_education'].sum()"
   ]
  },
  {
   "cell_type": "code",
   "execution_count": 63,
   "id": "7db9114c",
   "metadata": {},
   "outputs": [],
   "source": [
    "secondary_vocational_education = students_work.groupby(['year', 'quarter'])['Secondary_vocational_education'].sum()"
   ]
  },
  {
   "cell_type": "code",
   "execution_count": 64,
   "id": "c016aa6a",
   "metadata": {},
   "outputs": [],
   "source": [
    "higher_education = students_work.groupby(['year', 'quarter'])['Higher_education'].sum()"
   ]
  },
  {
   "cell_type": "code",
   "execution_count": 69,
   "id": "1e260a53",
   "metadata": {},
   "outputs": [
    {
     "data": {
      "text/plain": [
       "<Axes: xlabel='year,quarter'>"
      ]
     },
     "execution_count": 69,
     "metadata": {},
     "output_type": "execute_result"
    },
    {
     "data": {
      "image/png": "[encoded data removed]",
      "text/plain": [
       "<Figure size 640x480 with 1 Axes>"
      ]
     },
     "metadata": {},
     "output_type": "display_data"
    }
   ],
   "source": [
    "#2.2. visualization\n",
    "ax = secondary_education.plot(kind='line', x='Year-Quarter', y='hours', color='red')\n",
    "secondary_vocational_education.plot(ax=ax, kind='line', x='Year-Quarter', y='hours', color='blue')\n",
    "higher_education.plot(ax=ax, kind='line', x='Year-Quarter', y='hours', color='green')"
   ]
  },
  {
   "cell_type": "markdown",
   "id": "32485ac1",
   "metadata": {},
   "source": [
    "2.3. **Analysis**\n",
    "\n",
    "(How did working hours vary among students across these three categories?)\n",
    "\n",
    "The trend in working hours appears similar, but substantial differences in values are evident. According to the line plot, students in secondary education consistently allocate the least amount of time to work, approximately half of the working hours observed in students pursuing secondary vocational education. Moreover, the working hours of higher education students, although lower than those in secondary vocational education, remain significantly higher than those of students in secondary education.\n",
    "\n",
    "The significant difference in working hours aligns with the developmental stage of students in secondary education. Students in secondary education in this survey are mostly from 15 to 16 years old, and people usually don't start working from such an young age.\n",
    "\n",
    "The notable disparity in working hours can also be attributed to the varying demands and expectations of each educational level. Secondary education students likely face a more rigorous academic workload, limiting the time available for employment. In contrast, students in secondary vocational education may have a curriculum that encourages or requires more practical experience, resulting in higher working hours. Higher education students, falling in between, exhibit a moderate engagement in employment, balancing academic commitments with work responsibilities."
   ]
  }
 ],
 "metadata": {
  "kernelspec": {
   "display_name": "Python 3 (ipykernel)",
   "language": "python",
   "name": "python3"
  },
  "language_info": {
   "codemirror_mode": {
    "name": "ipython",
    "version": 3
   },
   "file_extension": ".py",
   "mimetype": "text/x-python",
   "name": "python",
   "nbconvert_exporter": "python",
   "pygments_lexer": "ipython3",
   "version": "3.11.4"
  }
 },
 "nbformat": 4,
 "nbformat_minor": 5
}
